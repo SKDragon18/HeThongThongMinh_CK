{
 "cells": [
  {
   "cell_type": "code",
   "execution_count": 290,
   "metadata": {},
   "outputs": [
    {
     "name": "stdout",
     "output_type": "stream",
     "text": [
      "<class 'pandas.core.frame.DataFrame'>\n",
      "RangeIndex: 1950 entries, 0 to 1949\n",
      "Data columns (total 11 columns):\n",
      " #   Column              Non-Null Count  Dtype  \n",
      "---  ------              --------------  -----  \n",
      " 0   GIỐNG - LOẠI        1950 non-null   object \n",
      " 1   GIỐNG - NHU CẦU     1950 non-null   object \n",
      " 2   GIỐNG - TỈNH THÀNH  1950 non-null   object \n",
      " 3   QUẬN HUYỆN          1950 non-null   object \n",
      " 4   GIÁ - TRIỆU ĐỒNG    1950 non-null   float64\n",
      " 5   DIỆN TÍCH - M2      1948 non-null   float64\n",
      " 6   HƯỚNG               658 non-null    object \n",
      " 7   SỐ TẦNG             0 non-null      float64\n",
      " 8   SỐ PHÒNG            1945 non-null   float64\n",
      " 9   SỐ TOILETS          1895 non-null   float64\n",
      " 10  GIẤY TỜ PHÁP LÝ     1462 non-null   object \n",
      "dtypes: float64(5), object(6)\n",
      "memory usage: 167.7+ KB\n"
     ]
    }
   ],
   "source": [
    "import pandas as pd\n",
    "import numpy as np\n",
    "import matplotlib\n",
    "data = pd.read_csv('GiaChungCu.csv')\n",
    "data.info()"
   ]
  },
  {
   "cell_type": "code",
   "execution_count": 291,
   "metadata": {},
   "outputs": [
    {
     "data": {
      "text/plain": [
       "(1950, 11)"
      ]
     },
     "execution_count": 291,
     "metadata": {},
     "output_type": "execute_result"
    }
   ],
   "source": [
    "data.shape"
   ]
  },
  {
   "cell_type": "code",
   "execution_count": 292,
   "metadata": {},
   "outputs": [
    {
     "data": {
      "text/plain": [
       "Index(['GIỐNG - LOẠI', 'GIỐNG - NHU CẦU', 'GIỐNG - TỈNH THÀNH', 'QUẬN HUYỆN',\n",
       "       'GIÁ - TRIỆU ĐỒNG', 'DIỆN TÍCH - M2', 'HƯỚNG', 'SỐ TẦNG', 'SỐ PHÒNG',\n",
       "       'SỐ TOILETS', 'GIẤY TỜ PHÁP LÝ'],\n",
       "      dtype='object')"
      ]
     },
     "execution_count": 292,
     "metadata": {},
     "output_type": "execute_result"
    }
   ],
   "source": [
    "data.columns"
   ]
  },
  {
   "cell_type": "code",
   "execution_count": 293,
   "metadata": {},
   "outputs": [
    {
     "name": "stdout",
     "output_type": "stream",
     "text": [
      "GIỐNG - LOẠI\n",
      "1\n",
      "GIỐNG - NHU CẦU\n",
      "1\n",
      "GIỐNG - TỈNH THÀNH\n",
      "1\n",
      "QUẬN HUYỆN\n",
      "22\n",
      "GIÁ - TRIỆU ĐỒNG\n",
      "473\n",
      "DIỆN TÍCH - M2\n",
      "300\n",
      "HƯỚNG\n",
      "9\n",
      "SỐ TẦNG\n",
      "1\n",
      "SỐ PHÒNG\n",
      "9\n",
      "SỐ TOILETS\n",
      "7\n",
      "GIẤY TỜ PHÁP LÝ\n",
      "4\n"
     ]
    }
   ],
   "source": [
    "for column in data.columns:\n",
    "    print(column)\n",
    "    print(len(data[column].unique()))"
   ]
  },
  {
   "cell_type": "code",
   "execution_count": 294,
   "metadata": {},
   "outputs": [
    {
     "data": {
      "text/html": [
       "<div>\n",
       "<style scoped>\n",
       "    .dataframe tbody tr th:only-of-type {\n",
       "        vertical-align: middle;\n",
       "    }\n",
       "\n",
       "    .dataframe tbody tr th {\n",
       "        vertical-align: top;\n",
       "    }\n",
       "\n",
       "    .dataframe thead th {\n",
       "        text-align: right;\n",
       "    }\n",
       "</style>\n",
       "<table border=\"1\" class=\"dataframe\">\n",
       "  <thead>\n",
       "    <tr style=\"text-align: right;\">\n",
       "      <th></th>\n",
       "      <th>QUẬN HUYỆN</th>\n",
       "      <th>GIÁ - TRIỆU ĐỒNG</th>\n",
       "      <th>DIỆN TÍCH - M2</th>\n",
       "      <th>HƯỚNG</th>\n",
       "      <th>SỐ PHÒNG</th>\n",
       "      <th>SỐ TOILETS</th>\n",
       "      <th>GIẤY TỜ PHÁP LÝ</th>\n",
       "    </tr>\n",
       "  </thead>\n",
       "  <tbody>\n",
       "    <tr>\n",
       "      <th>0</th>\n",
       "      <td>Quận 9</td>\n",
       "      <td>2650.0</td>\n",
       "      <td>69.0</td>\n",
       "      <td>NaN</td>\n",
       "      <td>2.0</td>\n",
       "      <td>2.0</td>\n",
       "      <td>Đã có sổ</td>\n",
       "    </tr>\n",
       "    <tr>\n",
       "      <th>1</th>\n",
       "      <td>Quận Tân Bình</td>\n",
       "      <td>3970.0</td>\n",
       "      <td>74.1</td>\n",
       "      <td>NaN</td>\n",
       "      <td>2.0</td>\n",
       "      <td>2.0</td>\n",
       "      <td>Đang chờ sổ</td>\n",
       "    </tr>\n",
       "    <tr>\n",
       "      <th>2</th>\n",
       "      <td>Quận 9</td>\n",
       "      <td>678.0</td>\n",
       "      <td>46.5</td>\n",
       "      <td>Tây</td>\n",
       "      <td>1.0</td>\n",
       "      <td>1.0</td>\n",
       "      <td>Đang chờ sổ</td>\n",
       "    </tr>\n",
       "    <tr>\n",
       "      <th>3</th>\n",
       "      <td>Quận Tân Phú</td>\n",
       "      <td>2870.0</td>\n",
       "      <td>65.0</td>\n",
       "      <td>NaN</td>\n",
       "      <td>2.0</td>\n",
       "      <td>2.0</td>\n",
       "      <td>NaN</td>\n",
       "    </tr>\n",
       "    <tr>\n",
       "      <th>4</th>\n",
       "      <td>Quận 9</td>\n",
       "      <td>3000.0</td>\n",
       "      <td>70.0</td>\n",
       "      <td>Đông Bắc</td>\n",
       "      <td>2.0</td>\n",
       "      <td>2.0</td>\n",
       "      <td>Đã có sổ</td>\n",
       "    </tr>\n",
       "  </tbody>\n",
       "</table>\n",
       "</div>"
      ],
      "text/plain": [
       "      QUẬN HUYỆN  GIÁ - TRIỆU ĐỒNG  DIỆN TÍCH - M2     HƯỚNG  SỐ PHÒNG  \\\n",
       "0         Quận 9            2650.0            69.0       NaN       2.0   \n",
       "1  Quận Tân Bình            3970.0            74.1       NaN       2.0   \n",
       "2         Quận 9             678.0            46.5       Tây       1.0   \n",
       "3   Quận Tân Phú            2870.0            65.0       NaN       2.0   \n",
       "4         Quận 9            3000.0            70.0  Đông Bắc       2.0   \n",
       "\n",
       "   SỐ TOILETS GIẤY TỜ PHÁP LÝ  \n",
       "0         2.0        Đã có sổ  \n",
       "1         2.0     Đang chờ sổ  \n",
       "2         1.0     Đang chờ sổ  \n",
       "3         2.0             NaN  \n",
       "4         2.0        Đã có sổ  "
      ]
     },
     "execution_count": 294,
     "metadata": {},
     "output_type": "execute_result"
    }
   ],
   "source": [
    "data.drop(columns=['GIỐNG - LOẠI','GIỐNG - NHU CẦU','GIỐNG - TỈNH THÀNH','SỐ TẦNG'],inplace=True)\n",
    "data.head()"
   ]
  },
  {
   "cell_type": "code",
   "execution_count": 295,
   "metadata": {},
   "outputs": [
    {
     "data": {
      "text/plain": [
       "QUẬN HUYỆN             0\n",
       "GIÁ - TRIỆU ĐỒNG       0\n",
       "DIỆN TÍCH - M2         2\n",
       "HƯỚNG               1292\n",
       "SỐ PHÒNG               5\n",
       "SỐ TOILETS            55\n",
       "GIẤY TỜ PHÁP LÝ      488\n",
       "dtype: int64"
      ]
     },
     "execution_count": 295,
     "metadata": {},
     "output_type": "execute_result"
    }
   ],
   "source": [
    "data.isnull().sum()"
   ]
  },
  {
   "cell_type": "code",
   "execution_count": 296,
   "metadata": {},
   "outputs": [
    {
     "name": "stdout",
     "output_type": "stream",
     "text": [
      "HƯỚNG\n",
      "[nan 'Tây' 'Đông Bắc' 'Nam' 'Tây Bắc' 'Bắc' 'Tây Nam' 'Đông Nam' 'Đông']\n",
      "SỐ PHÒNG\n",
      "[ 2.  1.  3.  4.  8.  6.  7. nan  5.]\n",
      "SỐ TOILETS\n",
      "[ 2.  1. nan  5.  3.  4.  6.]\n",
      "GIẤY TỜ PHÁP LÝ\n",
      "['Đã có sổ' 'Đang chờ sổ' nan 'Giấy tờ khác']\n"
     ]
    }
   ],
   "source": [
    "for column in ['HƯỚNG','SỐ PHÒNG','SỐ TOILETS','GIẤY TỜ PHÁP LÝ']:\n",
    "    print(column)\n",
    "    print(data[column].unique())"
   ]
  },
  {
   "cell_type": "code",
   "execution_count": 297,
   "metadata": {},
   "outputs": [
    {
     "data": {
      "text/plain": [
       "QUẬN HUYỆN          0\n",
       "GIÁ - TRIỆU ĐỒNG    0\n",
       "DIỆN TÍCH - M2      2\n",
       "HƯỚNG               0\n",
       "SỐ PHÒNG            0\n",
       "SỐ TOILETS          0\n",
       "GIẤY TỜ PHÁP LÝ     0\n",
       "dtype: int64"
      ]
     },
     "execution_count": 297,
     "metadata": {},
     "output_type": "execute_result"
    }
   ],
   "source": [
    "data['HƯỚNG'].fillna('Không',inplace=True)\n",
    "data['SỐ PHÒNG'].fillna(int(data['SỐ PHÒNG'].mean()),inplace=True)\n",
    "data['SỐ TOILETS'].fillna(int(data['SỐ TOILETS'].mean()),inplace=True)\n",
    "data['GIẤY TỜ PHÁP LÝ'].fillna('Không',inplace=True)\n",
    "data.isnull().sum()"
   ]
  },
  {
   "cell_type": "code",
   "execution_count": 298,
   "metadata": {},
   "outputs": [
    {
     "data": {
      "text/plain": [
       "QUẬN HUYỆN          0\n",
       "GIÁ - TRIỆU ĐỒNG    0\n",
       "DIỆN TÍCH - M2      0\n",
       "HƯỚNG               0\n",
       "SỐ PHÒNG            0\n",
       "SỐ TOILETS          0\n",
       "GIẤY TỜ PHÁP LÝ     0\n",
       "dtype: int64"
      ]
     },
     "execution_count": 298,
     "metadata": {},
     "output_type": "execute_result"
    }
   ],
   "source": [
    "for i in range(len(data)):\n",
    "    if str(data.loc[i,'DIỆN TÍCH - M2']) =='nan':\n",
    "        data.drop(i,inplace=True)\n",
    "data=data.reset_index(drop=True)\n",
    "data.isnull().sum()"
   ]
  },
  {
   "cell_type": "code",
   "execution_count": 299,
   "metadata": {},
   "outputs": [
    {
     "data": {
      "image/png": "[encoded data removed]",
      "text/plain": [
       "<Figure size 640x480 with 1 Axes>"
      ]
     },
     "metadata": {},
     "output_type": "display_data"
    }
   ],
   "source": [
    "import matplotlib.pyplot as plt\n",
    "plt.boxplot(data[\"DIỆN TÍCH - M2\"])\n",
    "plt.show()"
   ]
  },
  {
   "attachments": {},
   "cell_type": "markdown",
   "metadata": {},
   "source": [
    "Kiểm tra các dòng dữ liệu vô lý"
   ]
  },
  {
   "cell_type": "code",
   "execution_count": 300,
   "metadata": {},
   "outputs": [
    {
     "name": "stdout",
     "output_type": "stream",
     "text": [
      "3\n"
     ]
    },
    {
     "data": {
      "text/html": [
       "<div>\n",
       "<style scoped>\n",
       "    .dataframe tbody tr th:only-of-type {\n",
       "        vertical-align: middle;\n",
       "    }\n",
       "\n",
       "    .dataframe tbody tr th {\n",
       "        vertical-align: top;\n",
       "    }\n",
       "\n",
       "    .dataframe thead th {\n",
       "        text-align: right;\n",
       "    }\n",
       "</style>\n",
       "<table border=\"1\" class=\"dataframe\">\n",
       "  <thead>\n",
       "    <tr style=\"text-align: right;\">\n",
       "      <th></th>\n",
       "      <th>QUẬN HUYỆN</th>\n",
       "      <th>GIÁ - TRIỆU ĐỒNG</th>\n",
       "      <th>DIỆN TÍCH - M2</th>\n",
       "      <th>HƯỚNG</th>\n",
       "      <th>SỐ PHÒNG</th>\n",
       "      <th>SỐ TOILETS</th>\n",
       "      <th>GIẤY TỜ PHÁP LÝ</th>\n",
       "    </tr>\n",
       "  </thead>\n",
       "  <tbody>\n",
       "    <tr>\n",
       "      <th>880</th>\n",
       "      <td>Quận 8</td>\n",
       "      <td>1050.0</td>\n",
       "      <td>2.5</td>\n",
       "      <td>Tây</td>\n",
       "      <td>1.0</td>\n",
       "      <td>1.0</td>\n",
       "      <td>Đã có sổ</td>\n",
       "    </tr>\n",
       "    <tr>\n",
       "      <th>920</th>\n",
       "      <td>Quận Tân Bình</td>\n",
       "      <td>3400.0</td>\n",
       "      <td>6.0</td>\n",
       "      <td>Không</td>\n",
       "      <td>2.0</td>\n",
       "      <td>2.0</td>\n",
       "      <td>Đã có sổ</td>\n",
       "    </tr>\n",
       "    <tr>\n",
       "      <th>1061</th>\n",
       "      <td>Quận Bình Thạnh</td>\n",
       "      <td>100.0</td>\n",
       "      <td>1.0</td>\n",
       "      <td>Không</td>\n",
       "      <td>1.0</td>\n",
       "      <td>1.0</td>\n",
       "      <td>Đã có sổ</td>\n",
       "    </tr>\n",
       "  </tbody>\n",
       "</table>\n",
       "</div>"
      ],
      "text/plain": [
       "           QUẬN HUYỆN  GIÁ - TRIỆU ĐỒNG  DIỆN TÍCH - M2  HƯỚNG  SỐ PHÒNG  \\\n",
       "880            Quận 8            1050.0             2.5    Tây       1.0   \n",
       "920     Quận Tân Bình            3400.0             6.0  Không       2.0   \n",
       "1061  Quận Bình Thạnh             100.0             1.0  Không       1.0   \n",
       "\n",
       "      SỐ TOILETS GIẤY TỜ PHÁP LÝ  \n",
       "880          1.0        Đã có sổ  \n",
       "920          2.0        Đã có sổ  \n",
       "1061         1.0        Đã có sổ  "
      ]
     },
     "execution_count": 300,
     "metadata": {},
     "output_type": "execute_result"
    }
   ],
   "source": [
    "x=data[data['DIỆN TÍCH - M2'] <= data['DIỆN TÍCH - M2'].quantile(0.0015)]\n",
    "print(len(x))\n",
    "x.head(10)"
   ]
  },
  {
   "cell_type": "code",
   "execution_count": 301,
   "metadata": {},
   "outputs": [
    {
     "name": "stdout",
     "output_type": "stream",
     "text": [
      "4\n"
     ]
    },
    {
     "data": {
      "text/html": [
       "<div>\n",
       "<style scoped>\n",
       "    .dataframe tbody tr th:only-of-type {\n",
       "        vertical-align: middle;\n",
       "    }\n",
       "\n",
       "    .dataframe tbody tr th {\n",
       "        vertical-align: top;\n",
       "    }\n",
       "\n",
       "    .dataframe thead th {\n",
       "        text-align: right;\n",
       "    }\n",
       "</style>\n",
       "<table border=\"1\" class=\"dataframe\">\n",
       "  <thead>\n",
       "    <tr style=\"text-align: right;\">\n",
       "      <th></th>\n",
       "      <th>QUẬN HUYỆN</th>\n",
       "      <th>GIÁ - TRIỆU ĐỒNG</th>\n",
       "      <th>DIỆN TÍCH - M2</th>\n",
       "      <th>HƯỚNG</th>\n",
       "      <th>SỐ PHÒNG</th>\n",
       "      <th>SỐ TOILETS</th>\n",
       "      <th>GIẤY TỜ PHÁP LÝ</th>\n",
       "    </tr>\n",
       "  </thead>\n",
       "  <tbody>\n",
       "    <tr>\n",
       "      <th>69</th>\n",
       "      <td>Quận 9</td>\n",
       "      <td>4300.0</td>\n",
       "      <td>1000.0</td>\n",
       "      <td>Đông Nam</td>\n",
       "      <td>2.0</td>\n",
       "      <td>2.0</td>\n",
       "      <td>Đã có sổ</td>\n",
       "    </tr>\n",
       "    <tr>\n",
       "      <th>265</th>\n",
       "      <td>Quận 7</td>\n",
       "      <td>150000.0</td>\n",
       "      <td>825.0</td>\n",
       "      <td>Không</td>\n",
       "      <td>2.0</td>\n",
       "      <td>1.0</td>\n",
       "      <td>Đã có sổ</td>\n",
       "    </tr>\n",
       "    <tr>\n",
       "      <th>1341</th>\n",
       "      <td>Quận 12</td>\n",
       "      <td>120000.0</td>\n",
       "      <td>928.6</td>\n",
       "      <td>Không</td>\n",
       "      <td>2.0</td>\n",
       "      <td>1.0</td>\n",
       "      <td>Đã có sổ</td>\n",
       "    </tr>\n",
       "    <tr>\n",
       "      <th>1498</th>\n",
       "      <td>Quận Bình Tân</td>\n",
       "      <td>55000.0</td>\n",
       "      <td>2400.0</td>\n",
       "      <td>Đông Nam</td>\n",
       "      <td>8.0</td>\n",
       "      <td>1.0</td>\n",
       "      <td>Đã có sổ</td>\n",
       "    </tr>\n",
       "  </tbody>\n",
       "</table>\n",
       "</div>"
      ],
      "text/plain": [
       "         QUẬN HUYỆN  GIÁ - TRIỆU ĐỒNG  DIỆN TÍCH - M2     HƯỚNG  SỐ PHÒNG  \\\n",
       "69           Quận 9            4300.0          1000.0  Đông Nam       2.0   \n",
       "265          Quận 7          150000.0           825.0     Không       2.0   \n",
       "1341        Quận 12          120000.0           928.6     Không       2.0   \n",
       "1498  Quận Bình Tân           55000.0          2400.0  Đông Nam       8.0   \n",
       "\n",
       "      SỐ TOILETS GIẤY TỜ PHÁP LÝ  \n",
       "69           2.0        Đã có sổ  \n",
       "265          1.0        Đã có sổ  \n",
       "1341         1.0        Đã có sổ  \n",
       "1498         1.0        Đã có sổ  "
      ]
     },
     "execution_count": 301,
     "metadata": {},
     "output_type": "execute_result"
    }
   ],
   "source": [
    "x=data[data['DIỆN TÍCH - M2'] >= data['DIỆN TÍCH - M2'].quantile(0.998)]\n",
    "print(len(x))\n",
    "x.head(10)"
   ]
  },
  {
   "cell_type": "code",
   "execution_count": 302,
   "metadata": {},
   "outputs": [
    {
     "data": {
      "image/png": "[encoded data removed]",
      "text/plain": [
       "<Figure size 640x480 with 1 Axes>"
      ]
     },
     "metadata": {},
     "output_type": "display_data"
    }
   ],
   "source": [
    "data=data[data['DIỆN TÍCH - M2'] > data['DIỆN TÍCH - M2'].quantile(0.0015)]\n",
    "data=data.reset_index(drop=True)\n",
    "data=data[data['DIỆN TÍCH - M2'] < data['DIỆN TÍCH - M2'].quantile(0.998)]\n",
    "data=data.reset_index(drop=True)\n",
    "plt.boxplot(data[\"DIỆN TÍCH - M2\"])\n",
    "plt.show()"
   ]
  },
  {
   "cell_type": "code",
   "execution_count": 303,
   "metadata": {},
   "outputs": [
    {
     "data": {
      "image/png": "[encoded data removed]",
      "text/plain": [
       "<Figure size 640x480 with 1 Axes>"
      ]
     },
     "metadata": {},
     "output_type": "display_data"
    }
   ],
   "source": [
    "plt.boxplot(data[\"GIÁ - TRIỆU ĐỒNG\"])\n",
    "plt.show()"
   ]
  },
  {
   "attachments": {},
   "cell_type": "markdown",
   "metadata": {},
   "source": [
    "Kiểm tra dòng có diện tích bé mà giá rất cao"
   ]
  },
  {
   "cell_type": "code",
   "execution_count": 304,
   "metadata": {},
   "outputs": [
    {
     "data": {
      "text/html": [
       "<div>\n",
       "<style scoped>\n",
       "    .dataframe tbody tr th:only-of-type {\n",
       "        vertical-align: middle;\n",
       "    }\n",
       "\n",
       "    .dataframe tbody tr th {\n",
       "        vertical-align: top;\n",
       "    }\n",
       "\n",
       "    .dataframe thead th {\n",
       "        text-align: right;\n",
       "    }\n",
       "</style>\n",
       "<table border=\"1\" class=\"dataframe\">\n",
       "  <thead>\n",
       "    <tr style=\"text-align: right;\">\n",
       "      <th></th>\n",
       "      <th>QUẬN HUYỆN</th>\n",
       "      <th>GIÁ - TRIỆU ĐỒNG</th>\n",
       "      <th>DIỆN TÍCH - M2</th>\n",
       "      <th>HƯỚNG</th>\n",
       "      <th>SỐ PHÒNG</th>\n",
       "      <th>SỐ TOILETS</th>\n",
       "      <th>GIẤY TỜ PHÁP LÝ</th>\n",
       "    </tr>\n",
       "  </thead>\n",
       "  <tbody>\n",
       "    <tr>\n",
       "      <th>437</th>\n",
       "      <td>Quận 1</td>\n",
       "      <td>38000.0</td>\n",
       "      <td>16.0</td>\n",
       "      <td>Đông</td>\n",
       "      <td>1.0</td>\n",
       "      <td>1.0</td>\n",
       "      <td>Đã có sổ</td>\n",
       "    </tr>\n",
       "    <tr>\n",
       "      <th>579</th>\n",
       "      <td>Quận 1</td>\n",
       "      <td>15000.0</td>\n",
       "      <td>41.0</td>\n",
       "      <td>Không</td>\n",
       "      <td>1.0</td>\n",
       "      <td>1.0</td>\n",
       "      <td>Giấy tờ khác</td>\n",
       "    </tr>\n",
       "    <tr>\n",
       "      <th>1453</th>\n",
       "      <td>Quận Phú Nhuận</td>\n",
       "      <td>9000.0</td>\n",
       "      <td>24.0</td>\n",
       "      <td>Không</td>\n",
       "      <td>2.0</td>\n",
       "      <td>3.0</td>\n",
       "      <td>Đã có sổ</td>\n",
       "    </tr>\n",
       "  </tbody>\n",
       "</table>\n",
       "</div>"
      ],
      "text/plain": [
       "          QUẬN HUYỆN  GIÁ - TRIỆU ĐỒNG  DIỆN TÍCH - M2  HƯỚNG  SỐ PHÒNG  \\\n",
       "437           Quận 1           38000.0            16.0   Đông       1.0   \n",
       "579           Quận 1           15000.0            41.0  Không       1.0   \n",
       "1453  Quận Phú Nhuận            9000.0            24.0  Không       2.0   \n",
       "\n",
       "      SỐ TOILETS GIẤY TỜ PHÁP LÝ  \n",
       "437          1.0        Đã có sổ  \n",
       "579          1.0    Giấy tờ khác  \n",
       "1453         3.0        Đã có sổ  "
      ]
     },
     "execution_count": 304,
     "metadata": {},
     "output_type": "execute_result"
    }
   ],
   "source": [
    "data[(data['DIỆN TÍCH - M2'] <= data['DIỆN TÍCH - M2'].quantile(0.1))&(data['GIÁ - TRIỆU ĐỒNG'] >= data['GIÁ - TRIỆU ĐỒNG'].quantile(0.9))]"
   ]
  },
  {
   "cell_type": "code",
   "execution_count": 305,
   "metadata": {},
   "outputs": [],
   "source": [
    "data.drop(index=437,inplace=True)\n",
    "data=data.reset_index(drop=True)"
   ]
  },
  {
   "cell_type": "code",
   "execution_count": 306,
   "metadata": {},
   "outputs": [],
   "source": [
    "data_temp=data.copy()"
   ]
  },
  {
   "cell_type": "code",
   "execution_count": 307,
   "metadata": {},
   "outputs": [
    {
     "data": {
      "text/html": [
       "<div>\n",
       "<style scoped>\n",
       "    .dataframe tbody tr th:only-of-type {\n",
       "        vertical-align: middle;\n",
       "    }\n",
       "\n",
       "    .dataframe tbody tr th {\n",
       "        vertical-align: top;\n",
       "    }\n",
       "\n",
       "    .dataframe thead th {\n",
       "        text-align: right;\n",
       "    }\n",
       "</style>\n",
       "<table border=\"1\" class=\"dataframe\">\n",
       "  <thead>\n",
       "    <tr style=\"text-align: right;\">\n",
       "      <th></th>\n",
       "      <th>QUẬN HUYỆN</th>\n",
       "      <th>GIÁ - TRIỆU ĐỒNG</th>\n",
       "      <th>DIỆN TÍCH - M2</th>\n",
       "      <th>HƯỚNG</th>\n",
       "      <th>SỐ PHÒNG</th>\n",
       "      <th>SỐ TOILETS</th>\n",
       "      <th>GIẤY TỜ PHÁP LÝ</th>\n",
       "      <th>Lower Bound</th>\n",
       "      <th>Upper Bound</th>\n",
       "    </tr>\n",
       "  </thead>\n",
       "  <tbody>\n",
       "    <tr>\n",
       "      <th>0</th>\n",
       "      <td>Quận 9</td>\n",
       "      <td>2650.0</td>\n",
       "      <td>69.0</td>\n",
       "      <td>Không</td>\n",
       "      <td>2.0</td>\n",
       "      <td>2.0</td>\n",
       "      <td>Đã có sổ</td>\n",
       "      <td>197.5</td>\n",
       "      <td>3865.5</td>\n",
       "    </tr>\n",
       "    <tr>\n",
       "      <th>1</th>\n",
       "      <td>Quận Tân Bình</td>\n",
       "      <td>3970.0</td>\n",
       "      <td>74.1</td>\n",
       "      <td>Không</td>\n",
       "      <td>2.0</td>\n",
       "      <td>2.0</td>\n",
       "      <td>Đang chờ sổ</td>\n",
       "      <td>-2552.5</td>\n",
       "      <td>6827.5</td>\n",
       "    </tr>\n",
       "    <tr>\n",
       "      <th>2</th>\n",
       "      <td>Quận 9</td>\n",
       "      <td>678.0</td>\n",
       "      <td>46.5</td>\n",
       "      <td>Tây</td>\n",
       "      <td>1.0</td>\n",
       "      <td>1.0</td>\n",
       "      <td>Đang chờ sổ</td>\n",
       "      <td>197.5</td>\n",
       "      <td>3865.5</td>\n",
       "    </tr>\n",
       "  </tbody>\n",
       "</table>\n",
       "</div>"
      ],
      "text/plain": [
       "      QUẬN HUYỆN  GIÁ - TRIỆU ĐỒNG  DIỆN TÍCH - M2  HƯỚNG  SỐ PHÒNG  \\\n",
       "0         Quận 9            2650.0            69.0  Không       2.0   \n",
       "1  Quận Tân Bình            3970.0            74.1  Không       2.0   \n",
       "2         Quận 9             678.0            46.5    Tây       1.0   \n",
       "\n",
       "   SỐ TOILETS GIẤY TỜ PHÁP LÝ  Lower Bound  Upper Bound  \n",
       "0         2.0        Đã có sổ        197.5       3865.5  \n",
       "1         2.0     Đang chờ sổ      -2552.5       6827.5  \n",
       "2         1.0     Đang chờ sổ        197.5       3865.5  "
      ]
     },
     "execution_count": 307,
     "metadata": {},
     "output_type": "execute_result"
    }
   ],
   "source": [
    "quan=data.groupby(['QUẬN HUYỆN'])\n",
    "data['Lower Bound'] = quan['GIÁ - TRIỆU ĐỒNG'].transform(lambda x: x.quantile(0.25) - 1.5 * (x.quantile(0.75) - x.quantile(0.25)))\n",
    "data['Upper Bound'] = quan['GIÁ - TRIỆU ĐỒNG'].transform(lambda x: x.quantile(0.75) + 1.5 * (x.quantile(0.75) - x.quantile(0.25)))\n",
    "data.head(3)"
   ]
  },
  {
   "cell_type": "code",
   "execution_count": 308,
   "metadata": {},
   "outputs": [
    {
     "name": "stdout",
     "output_type": "stream",
     "text": [
      "(1940, 9)\n",
      "(1836, 7)\n",
      "Sub:  104\n"
     ]
    }
   ],
   "source": [
    "x=data.shape[0]\n",
    "print(data.shape)\n",
    "data = data[(data['GIÁ - TRIỆU ĐỒNG'] >= data['Lower Bound']) & (data['GIÁ - TRIỆU ĐỒNG'] <= data['Upper Bound'])]\n",
    "data = data.drop(['Lower Bound', 'Upper Bound'], axis=1)\n",
    "data=data.reset_index(drop=True)\n",
    "print(data.shape)\n",
    "print('Sub: ',x-data.shape[0])"
   ]
  },
  {
   "cell_type": "code",
   "execution_count": 309,
   "metadata": {},
   "outputs": [
    {
     "data": {
      "image/png": "[encoded data removed]",
      "text/plain": [
       "<Figure size 640x480 with 1 Axes>"
      ]
     },
     "metadata": {},
     "output_type": "display_data"
    }
   ],
   "source": [
    "plt.boxplot(data[\"GIÁ - TRIỆU ĐỒNG\"])\n",
    "plt.show()"
   ]
  },
  {
   "attachments": {},
   "cell_type": "markdown",
   "metadata": {},
   "source": [
    "Dữ liệu sạch tiến hành lưu vào file mới"
   ]
  },
  {
   "cell_type": "code",
   "execution_count": 310,
   "metadata": {},
   "outputs": [],
   "source": [
    "data.to_csv('ChungCuTinhChinh2.csv')"
   ]
  },
  {
   "attachments": {},
   "cell_type": "markdown",
   "metadata": {},
   "source": [
    "### Train data"
   ]
  },
  {
   "cell_type": "code",
   "execution_count": null,
   "metadata": {},
   "outputs": [],
   "source": [
    "from sklearn.model_selection import train_test_split, cross_val_score\n",
    "from sklearn.preprocessing import StandardScaler\n",
    "from sklearn.metrics import r2_score, mean_absolute_error, mean_squared_error\n",
    "\n",
    "from sklearn.linear_model import LinearRegression\n",
    "from sklearn.svm import SVR\n",
    "\n",
    "import pandas as pd\n",
    "import numpy as np\n",
    "import matplotlib.pyplot as plt\n"
   ]
  },
  {
   "cell_type": "code",
   "execution_count": 311,
   "metadata": {},
   "outputs": [
    {
     "data": {
      "text/html": [
       "<div>\n",
       "<style scoped>\n",
       "    .dataframe tbody tr th:only-of-type {\n",
       "        vertical-align: middle;\n",
       "    }\n",
       "\n",
       "    .dataframe tbody tr th {\n",
       "        vertical-align: top;\n",
       "    }\n",
       "\n",
       "    .dataframe thead th {\n",
       "        text-align: right;\n",
       "    }\n",
       "</style>\n",
       "<table border=\"1\" class=\"dataframe\">\n",
       "  <thead>\n",
       "    <tr style=\"text-align: right;\">\n",
       "      <th></th>\n",
       "      <th>Unnamed: 0</th>\n",
       "      <th>QUẬN HUYỆN</th>\n",
       "      <th>GIÁ - TRIỆU ĐỒNG</th>\n",
       "      <th>DIỆN TÍCH - M2</th>\n",
       "      <th>HƯỚNG</th>\n",
       "      <th>SỐ PHÒNG</th>\n",
       "      <th>SỐ TOILETS</th>\n",
       "      <th>GIẤY TỜ PHÁP LÝ</th>\n",
       "    </tr>\n",
       "  </thead>\n",
       "  <tbody>\n",
       "    <tr>\n",
       "      <th>0</th>\n",
       "      <td>0</td>\n",
       "      <td>Quận 9</td>\n",
       "      <td>2650.0</td>\n",
       "      <td>69.0</td>\n",
       "      <td>Không</td>\n",
       "      <td>2.0</td>\n",
       "      <td>2.0</td>\n",
       "      <td>Đã có sổ</td>\n",
       "    </tr>\n",
       "    <tr>\n",
       "      <th>1</th>\n",
       "      <td>1</td>\n",
       "      <td>Quận Tân Bình</td>\n",
       "      <td>3970.0</td>\n",
       "      <td>74.1</td>\n",
       "      <td>Không</td>\n",
       "      <td>2.0</td>\n",
       "      <td>2.0</td>\n",
       "      <td>Đang chờ sổ</td>\n",
       "    </tr>\n",
       "    <tr>\n",
       "      <th>2</th>\n",
       "      <td>2</td>\n",
       "      <td>Quận 9</td>\n",
       "      <td>678.0</td>\n",
       "      <td>46.5</td>\n",
       "      <td>Tây</td>\n",
       "      <td>1.0</td>\n",
       "      <td>1.0</td>\n",
       "      <td>Đang chờ sổ</td>\n",
       "    </tr>\n",
       "    <tr>\n",
       "      <th>3</th>\n",
       "      <td>3</td>\n",
       "      <td>Quận Tân Phú</td>\n",
       "      <td>2870.0</td>\n",
       "      <td>65.0</td>\n",
       "      <td>Không</td>\n",
       "      <td>2.0</td>\n",
       "      <td>2.0</td>\n",
       "      <td>Không</td>\n",
       "    </tr>\n",
       "    <tr>\n",
       "      <th>4</th>\n",
       "      <td>4</td>\n",
       "      <td>Quận 9</td>\n",
       "      <td>3000.0</td>\n",
       "      <td>70.0</td>\n",
       "      <td>Đông Bắc</td>\n",
       "      <td>2.0</td>\n",
       "      <td>2.0</td>\n",
       "      <td>Đã có sổ</td>\n",
       "    </tr>\n",
       "  </tbody>\n",
       "</table>\n",
       "</div>"
      ],
      "text/plain": [
       "   Unnamed: 0     QUẬN HUYỆN  GIÁ - TRIỆU ĐỒNG  DIỆN TÍCH - M2     HƯỚNG  \\\n",
       "0           0         Quận 9            2650.0            69.0     Không   \n",
       "1           1  Quận Tân Bình            3970.0            74.1     Không   \n",
       "2           2         Quận 9             678.0            46.5       Tây   \n",
       "3           3   Quận Tân Phú            2870.0            65.0     Không   \n",
       "4           4         Quận 9            3000.0            70.0  Đông Bắc   \n",
       "\n",
       "   SỐ PHÒNG  SỐ TOILETS GIẤY TỜ PHÁP LÝ  \n",
       "0       2.0         2.0        Đã có sổ  \n",
       "1       2.0         2.0     Đang chờ sổ  \n",
       "2       1.0         1.0     Đang chờ sổ  \n",
       "3       2.0         2.0           Không  \n",
       "4       2.0         2.0        Đã có sổ  "
      ]
     },
     "execution_count": 311,
     "metadata": {},
     "output_type": "execute_result"
    }
   ],
   "source": [
    "data=pd.read_csv('ChungCuTinhChinh2.csv')\n",
    "data.head()"
   ]
  },
  {
   "cell_type": "code",
   "execution_count": 312,
   "metadata": {},
   "outputs": [],
   "source": [
    "data.drop(columns=['Unnamed: 0'],inplace=True)"
   ]
  },
  {
   "cell_type": "code",
   "execution_count": 313,
   "metadata": {},
   "outputs": [
    {
     "name": "stdout",
     "output_type": "stream",
     "text": [
      "QUẬN HUYỆN\n",
      "22\n",
      "GIÁ - TRIỆU ĐỒNG\n",
      "433\n",
      "DIỆN TÍCH - M2\n",
      "257\n",
      "HƯỚNG\n",
      "9\n",
      "SỐ PHÒNG\n",
      "8\n",
      "SỐ TOILETS\n",
      "5\n",
      "GIẤY TỜ PHÁP LÝ\n",
      "4\n"
     ]
    }
   ],
   "source": [
    "for column in data.columns:\n",
    "    print(column)\n",
    "    print(len(data[column].unique()))"
   ]
  },
  {
   "cell_type": "code",
   "execution_count": 315,
   "metadata": {},
   "outputs": [
    {
     "data": {
      "text/html": [
       "<div>\n",
       "<style scoped>\n",
       "    .dataframe tbody tr th:only-of-type {\n",
       "        vertical-align: middle;\n",
       "    }\n",
       "\n",
       "    .dataframe tbody tr th {\n",
       "        vertical-align: top;\n",
       "    }\n",
       "\n",
       "    .dataframe thead th {\n",
       "        text-align: right;\n",
       "    }\n",
       "</style>\n",
       "<table border=\"1\" class=\"dataframe\">\n",
       "  <thead>\n",
       "    <tr style=\"text-align: right;\">\n",
       "      <th></th>\n",
       "      <th>GIÁ - TRIỆU ĐỒNG</th>\n",
       "      <th>DIỆN TÍCH - M2</th>\n",
       "      <th>SỐ PHÒNG</th>\n",
       "      <th>SỐ TOILETS</th>\n",
       "    </tr>\n",
       "  </thead>\n",
       "  <tbody>\n",
       "    <tr>\n",
       "      <th>count</th>\n",
       "      <td>1836.000000</td>\n",
       "      <td>1836.000000</td>\n",
       "      <td>1836.000000</td>\n",
       "      <td>1836.000000</td>\n",
       "    </tr>\n",
       "    <tr>\n",
       "      <th>mean</th>\n",
       "      <td>2745.975927</td>\n",
       "      <td>68.890226</td>\n",
       "      <td>1.988562</td>\n",
       "      <td>1.686819</td>\n",
       "    </tr>\n",
       "    <tr>\n",
       "      <th>std</th>\n",
       "      <td>1861.551209</td>\n",
       "      <td>22.067945</td>\n",
       "      <td>0.624111</td>\n",
       "      <td>0.535864</td>\n",
       "    </tr>\n",
       "    <tr>\n",
       "      <th>min</th>\n",
       "      <td>100.000000</td>\n",
       "      <td>12.200000</td>\n",
       "      <td>1.000000</td>\n",
       "      <td>1.000000</td>\n",
       "    </tr>\n",
       "    <tr>\n",
       "      <th>25%</th>\n",
       "      <td>1750.000000</td>\n",
       "      <td>56.000000</td>\n",
       "      <td>2.000000</td>\n",
       "      <td>1.000000</td>\n",
       "    </tr>\n",
       "    <tr>\n",
       "      <th>50%</th>\n",
       "      <td>2350.000000</td>\n",
       "      <td>67.000000</td>\n",
       "      <td>2.000000</td>\n",
       "      <td>2.000000</td>\n",
       "    </tr>\n",
       "    <tr>\n",
       "      <th>75%</th>\n",
       "      <td>3200.000000</td>\n",
       "      <td>77.000000</td>\n",
       "      <td>2.000000</td>\n",
       "      <td>2.000000</td>\n",
       "    </tr>\n",
       "    <tr>\n",
       "      <th>max</th>\n",
       "      <td>30000.000000</td>\n",
       "      <td>250.000000</td>\n",
       "      <td>8.000000</td>\n",
       "      <td>5.000000</td>\n",
       "    </tr>\n",
       "  </tbody>\n",
       "</table>\n",
       "</div>"
      ],
      "text/plain": [
       "       GIÁ - TRIỆU ĐỒNG  DIỆN TÍCH - M2     SỐ PHÒNG   SỐ TOILETS\n",
       "count       1836.000000     1836.000000  1836.000000  1836.000000\n",
       "mean        2745.975927       68.890226     1.988562     1.686819\n",
       "std         1861.551209       22.067945     0.624111     0.535864\n",
       "min          100.000000       12.200000     1.000000     1.000000\n",
       "25%         1750.000000       56.000000     2.000000     1.000000\n",
       "50%         2350.000000       67.000000     2.000000     2.000000\n",
       "75%         3200.000000       77.000000     2.000000     2.000000\n",
       "max        30000.000000      250.000000     8.000000     5.000000"
      ]
     },
     "execution_count": 315,
     "metadata": {},
     "output_type": "execute_result"
    }
   ],
   "source": [
    "data.describe()"
   ]
  },
  {
   "attachments": {},
   "cell_type": "markdown",
   "metadata": {},
   "source": [
    "Vì trong dự án không có số toilets nên xóa cột số toilets đi"
   ]
  },
  {
   "cell_type": "code",
   "execution_count": null,
   "metadata": {},
   "outputs": [
    {
     "data": {
      "text/html": [
       "<div>\n",
       "<style scoped>\n",
       "    .dataframe tbody tr th:only-of-type {\n",
       "        vertical-align: middle;\n",
       "    }\n",
       "\n",
       "    .dataframe tbody tr th {\n",
       "        vertical-align: top;\n",
       "    }\n",
       "\n",
       "    .dataframe thead th {\n",
       "        text-align: right;\n",
       "    }\n",
       "</style>\n",
       "<table border=\"1\" class=\"dataframe\">\n",
       "  <thead>\n",
       "    <tr style=\"text-align: right;\">\n",
       "      <th></th>\n",
       "      <th>QUẬN HUYỆN</th>\n",
       "      <th>GIÁ - TRIỆU ĐỒNG</th>\n",
       "      <th>DIỆN TÍCH - M2</th>\n",
       "      <th>HƯỚNG</th>\n",
       "      <th>SỐ PHÒNG</th>\n",
       "      <th>GIẤY TỜ PHÁP LÝ</th>\n",
       "    </tr>\n",
       "  </thead>\n",
       "  <tbody>\n",
       "    <tr>\n",
       "      <th>0</th>\n",
       "      <td>Quận 9</td>\n",
       "      <td>2650.0</td>\n",
       "      <td>69.0</td>\n",
       "      <td>Không</td>\n",
       "      <td>2.0</td>\n",
       "      <td>Đã có sổ</td>\n",
       "    </tr>\n",
       "  </tbody>\n",
       "</table>\n",
       "</div>"
      ],
      "text/plain": [
       "  QUẬN HUYỆN  GIÁ - TRIỆU ĐỒNG  DIỆN TÍCH - M2  HƯỚNG  SỐ PHÒNG  \\\n",
       "0     Quận 9            2650.0            69.0  Không       2.0   \n",
       "\n",
       "  GIẤY TỜ PHÁP LÝ  \n",
       "0        Đã có sổ  "
      ]
     },
     "execution_count": 261,
     "metadata": {},
     "output_type": "execute_result"
    }
   ],
   "source": [
    "data.drop(columns=['SỐ TOILETS'],inplace=True)\n",
    "data.head(1)"
   ]
  },
  {
   "attachments": {},
   "cell_type": "markdown",
   "metadata": {},
   "source": [
    "Hàm xếp hạng dictionary"
   ]
  },
  {
   "cell_type": "code",
   "execution_count": null,
   "metadata": {},
   "outputs": [],
   "source": [
    "import math\n",
    "import pandas as pd\n",
    "def create_rank_feature(x):\n",
    "    temp_dict={}\n",
    "    for i in range(len(x)):\n",
    "        min=math.inf\n",
    "        flat=0\n",
    "        temp_key=None\n",
    "        for key in x.keys():\n",
    "            if key not in temp_dict.keys() and x[key] < min:\n",
    "                min=x[key]\n",
    "                temp_key=key\n",
    "                flat=1\n",
    "        temp_dict[temp_key]=[i,min]\n",
    "    return temp_dict\n"
   ]
  },
  {
   "attachments": {},
   "cell_type": "markdown",
   "metadata": {},
   "source": [
    "Tính toán giá nhà trung bình của từng giá trị theo cột"
   ]
  },
  {
   "cell_type": "code",
   "execution_count": null,
   "metadata": {},
   "outputs": [
    {
     "name": "stdout",
     "output_type": "stream",
     "text": [
      "{'Quận 9': 1961.797876013158, 'Quận Tân Bình': 2381.179, 'Quận Tân Phú': 2815.672473548387, 'Quận 7': 2831.86802071066, 'Quận 2': 3785.4754222222223, 'Quận 11': 2833.6363636363635, 'Quận Thủ Đức': 1920.458064516129, 'Huyện Bình Chánh': 1803.7894736842106, 'Quận Bình Tân': 1967.5096153846155, 'Quận 12': 1861.2588235294118, 'Quận 5': 3362.6666666666665, 'Quận 8': 2135.232522033898, 'Quận Phú Nhuận': 4703.5526315789475, 'Huyện Nhà Bè': 2503.2203389830506, 'Quận 6': 2571.633333333333, 'Quận Bình Thạnh': 3804.678943192307, 'Quận 10': 4575.475, 'Quận Gò Vấp': 2421.3888888888887, 'Quận 4': 4210.816326530612, 'Quận 1': 10168.56590909091, 'Quận 3': 2836.923076923077, 'Huyện Hóc Môn': 2726.6666666666665}\n",
      "{'Không': 2746.808594126634, 'Tây': 2427.7361111111113, 'Đông Bắc': 3363.138386666667, 'Nam': 2575.8067536231883, 'Tây Bắc': 2674.3947368421054, 'Bắc': 2555.2280701754385, 'Tây Nam': 3086.0851063829787, 'Đông Nam': 2574.279981583333, 'Đông': 2869.0723819047616}\n",
      "{'Đã có sổ': 2690.5905153255426, 'Đang chờ sổ': 2915.836864673203, 'Không': 2683.898158798283, 'Giấy tờ khác': 2482.763396226415}\n"
     ]
    }
   ],
   "source": [
    "quan={}\n",
    "huong={}\n",
    "giayto={}\n",
    "for value in data['QUẬN HUYỆN'].unique():\n",
    "    quan[value]=data[data['QUẬN HUYỆN']==value]['GIÁ - TRIỆU ĐỒNG'].mean()\n",
    "for value in data['HƯỚNG'].unique():\n",
    "    huong[value]=data[data['HƯỚNG']==value]['GIÁ - TRIỆU ĐỒNG'].mean()\n",
    "for value in data['GIẤY TỜ PHÁP LÝ'].unique():\n",
    "    giayto[value]=data[data['GIẤY TỜ PHÁP LÝ']==value]['GIÁ - TRIỆU ĐỒNG'].mean()\n",
    "print(quan)\n",
    "print(huong)\n",
    "print(giayto)"
   ]
  },
  {
   "attachments": {},
   "cell_type": "markdown",
   "metadata": {},
   "source": [
    "Uớc tính bước nhảy"
   ]
  },
  {
   "cell_type": "code",
   "execution_count": null,
   "metadata": {},
   "outputs": [
    {
     "name": "stdout",
     "output_type": "stream",
     "text": [
      "QUẬN HUYỆN 22\n",
      "GIÁ - TRIỆU ĐỒNG 433\n",
      "DIỆN TÍCH - M2 257\n",
      "HƯỚNG 9\n",
      "SỐ PHÒNG 8\n",
      "GIẤY TỜ PHÁP LÝ 4\n",
      "{'QUẬN HUYỆN': 0.0455, 'GIÁ - TRIỆU ĐỒNG': 0.0023, 'DIỆN TÍCH - M2': 0.0039, 'HƯỚNG': 0.1111, 'SỐ PHÒNG': 0.125, 'GIẤY TỜ PHÁP LÝ': 0.25}\n"
     ]
    }
   ],
   "source": [
    "count_arr={}\n",
    "for column in data.columns:\n",
    "    print(column,len(data[column].unique()))\n",
    "    count_arr[column]=round(1/len(data[column].unique()),4)\n",
    "print(count_arr)"
   ]
  },
  {
   "cell_type": "code",
   "execution_count": null,
   "metadata": {},
   "outputs": [
    {
     "name": "stdout",
     "output_type": "stream",
     "text": [
      "{'Huyện Bình Chánh': [0, 1803.7894736842106], 'Quận 12': [1, 1861.2588235294118], 'Quận Thủ Đức': [2, 1920.458064516129], 'Quận 9': [3, 1961.797876013158], 'Quận Bình Tân': [4, 1967.5096153846155], 'Quận 8': [5, 2135.232522033898], 'Quận Tân Bình': [6, 2381.179], 'Quận Gò Vấp': [7, 2421.3888888888887], 'Huyện Nhà Bè': [8, 2503.2203389830506], 'Quận 6': [9, 2571.633333333333], 'Huyện Hóc Môn': [10, 2726.6666666666665], 'Quận Tân Phú': [11, 2815.672473548387], 'Quận 7': [12, 2831.86802071066], 'Quận 11': [13, 2833.6363636363635], 'Quận 3': [14, 2836.923076923077], 'Quận 5': [15, 3362.6666666666665], 'Quận 2': [16, 3785.4754222222223], 'Quận Bình Thạnh': [17, 3804.678943192307], 'Quận 4': [18, 4210.816326530612], 'Quận 10': [19, 4575.475], 'Quận Phú Nhuận': [20, 4703.5526315789475], 'Quận 1': [21, 10168.56590909091]}\n",
      "{'Tây': [0, 2427.7361111111113], 'Bắc': [1, 2555.2280701754385], 'Đông Nam': [2, 2574.279981583333], 'Nam': [3, 2575.8067536231883], 'Tây Bắc': [4, 2674.3947368421054], 'Không': [5, 2746.808594126634], 'Đông': [6, 2869.0723819047616], 'Tây Nam': [7, 3086.0851063829787], 'Đông Bắc': [8, 3363.138386666667]}\n",
      "{'Giấy tờ khác': [0, 2482.763396226415], 'Không': [1, 2683.898158798283], 'Đã có sổ': [2, 2690.5905153255426], 'Đang chờ sổ': [3, 2915.836864673203]}\n"
     ]
    }
   ],
   "source": [
    "quan=create_rank_feature(quan)\n",
    "huong=create_rank_feature(huong)\n",
    "giayto=create_rank_feature(giayto)\n",
    "print(quan)\n",
    "print(huong)\n",
    "print(giayto)"
   ]
  },
  {
   "attachments": {},
   "cell_type": "markdown",
   "metadata": {},
   "source": [
    "Các chuyển đổi hoàn chỉnh"
   ]
  },
  {
   "cell_type": "code",
   "execution_count": null,
   "metadata": {},
   "outputs": [
    {
     "name": "stdout",
     "output_type": "stream",
     "text": [
      "{'Huyện Bình Chánh': 0.0455, 'Quận 12': 0.091, 'Quận Thủ Đức': 0.1365, 'Quận 9': 0.182, 'Quận Bình Tân': 0.2275, 'Quận 8': 0.273, 'Quận Tân Bình': 0.3185, 'Quận Gò Vấp': 0.364, 'Huyện Nhà Bè': 0.4095, 'Quận 6': 0.455, 'Huyện Hóc Môn': 0.5005, 'Quận Tân Phú': 0.546, 'Quận 7': 0.5915, 'Quận 11': 0.637, 'Quận 3': 0.6825, 'Quận 5': 0.728, 'Quận 2': 0.7735, 'Quận Bình Thạnh': 0.819, 'Quận 4': 0.8645, 'Quận 10': 0.91, 'Quận Phú Nhuận': 0.9555, 'Quận 1': 1.001}\n",
      "{'Tây': 0.1111, 'Bắc': 0.2222, 'Đông Nam': 0.3333, 'Nam': 0.4444, 'Tây Bắc': 0.5555, 'Không': 0.6666, 'Đông': 0.7777, 'Tây Nam': 0.8888, 'Đông Bắc': 0.9999}\n",
      "{'Giấy tờ khác': 0.25, 'Không': 0.5, 'Đã có sổ': 0.75, 'Đang chờ sổ': 1.0}\n"
     ]
    }
   ],
   "source": [
    "count_quan=count_arr['QUẬN HUYỆN']\n",
    "count_huong=count_arr['HƯỚNG']\n",
    "count_giayto=count_arr['GIẤY TỜ PHÁP LÝ']\n",
    "for key in quan.keys():\n",
    "    quan[key]=count_quan\n",
    "    count_quan=round(count_quan+count_arr['QUẬN HUYỆN'],4)\n",
    "for key in huong.keys():\n",
    "    huong[key]=count_huong\n",
    "    count_huong=round(count_huong+count_arr['HƯỚNG'],4)\n",
    "for key in giayto.keys():\n",
    "    giayto[key]=count_giayto\n",
    "    count_giayto=round(count_giayto+count_arr['GIẤY TỜ PHÁP LÝ'],4)\n",
    "print(quan)\n",
    "print(huong)\n",
    "print(giayto)"
   ]
  },
  {
   "cell_type": "code",
   "execution_count": null,
   "metadata": {},
   "outputs": [],
   "source": [
    "data['QUẬN HUYỆN']=data['QUẬN HUYỆN'].apply(lambda x: quan[str(x)])\n",
    "data['GIẤY TỜ PHÁP LÝ']=data['GIẤY TỜ PHÁP LÝ'].apply(lambda x: giayto[str(x)])\n",
    "data['HƯỚNG']=data['HƯỚNG'].apply(lambda x: huong[str(x)])"
   ]
  },
  {
   "cell_type": "code",
   "execution_count": null,
   "metadata": {},
   "outputs": [
    {
     "data": {
      "text/html": [
       "<div>\n",
       "<style scoped>\n",
       "    .dataframe tbody tr th:only-of-type {\n",
       "        vertical-align: middle;\n",
       "    }\n",
       "\n",
       "    .dataframe tbody tr th {\n",
       "        vertical-align: top;\n",
       "    }\n",
       "\n",
       "    .dataframe thead th {\n",
       "        text-align: right;\n",
       "    }\n",
       "</style>\n",
       "<table border=\"1\" class=\"dataframe\">\n",
       "  <thead>\n",
       "    <tr style=\"text-align: right;\">\n",
       "      <th></th>\n",
       "      <th>QUẬN HUYỆN</th>\n",
       "      <th>GIÁ - TRIỆU ĐỒNG</th>\n",
       "      <th>DIỆN TÍCH - M2</th>\n",
       "      <th>HƯỚNG</th>\n",
       "      <th>SỐ PHÒNG</th>\n",
       "      <th>GIẤY TỜ PHÁP LÝ</th>\n",
       "    </tr>\n",
       "  </thead>\n",
       "  <tbody>\n",
       "    <tr>\n",
       "      <th>0</th>\n",
       "      <td>0.1820</td>\n",
       "      <td>2650.0</td>\n",
       "      <td>69.0</td>\n",
       "      <td>0.6666</td>\n",
       "      <td>2.0</td>\n",
       "      <td>0.75</td>\n",
       "    </tr>\n",
       "    <tr>\n",
       "      <th>1</th>\n",
       "      <td>0.3185</td>\n",
       "      <td>3970.0</td>\n",
       "      <td>74.1</td>\n",
       "      <td>0.6666</td>\n",
       "      <td>2.0</td>\n",
       "      <td>1.00</td>\n",
       "    </tr>\n",
       "    <tr>\n",
       "      <th>2</th>\n",
       "      <td>0.1820</td>\n",
       "      <td>678.0</td>\n",
       "      <td>46.5</td>\n",
       "      <td>0.1111</td>\n",
       "      <td>1.0</td>\n",
       "      <td>1.00</td>\n",
       "    </tr>\n",
       "    <tr>\n",
       "      <th>3</th>\n",
       "      <td>0.5460</td>\n",
       "      <td>2870.0</td>\n",
       "      <td>65.0</td>\n",
       "      <td>0.6666</td>\n",
       "      <td>2.0</td>\n",
       "      <td>0.50</td>\n",
       "    </tr>\n",
       "    <tr>\n",
       "      <th>4</th>\n",
       "      <td>0.1820</td>\n",
       "      <td>3000.0</td>\n",
       "      <td>70.0</td>\n",
       "      <td>0.9999</td>\n",
       "      <td>2.0</td>\n",
       "      <td>0.75</td>\n",
       "    </tr>\n",
       "  </tbody>\n",
       "</table>\n",
       "</div>"
      ],
      "text/plain": [
       "   QUẬN HUYỆN  GIÁ - TRIỆU ĐỒNG  DIỆN TÍCH - M2   HƯỚNG  SỐ PHÒNG  \\\n",
       "0      0.1820            2650.0            69.0  0.6666       2.0   \n",
       "1      0.3185            3970.0            74.1  0.6666       2.0   \n",
       "2      0.1820             678.0            46.5  0.1111       1.0   \n",
       "3      0.5460            2870.0            65.0  0.6666       2.0   \n",
       "4      0.1820            3000.0            70.0  0.9999       2.0   \n",
       "\n",
       "   GIẤY TỜ PHÁP LÝ  \n",
       "0             0.75  \n",
       "1             1.00  \n",
       "2             1.00  \n",
       "3             0.50  \n",
       "4             0.75  "
      ]
     },
     "execution_count": 268,
     "metadata": {},
     "output_type": "execute_result"
    }
   ],
   "source": [
    "data.head(5)"
   ]
  },
  {
   "cell_type": "code",
   "execution_count": null,
   "metadata": {},
   "outputs": [
    {
     "data": {
      "text/html": [
       "<div>\n",
       "<style scoped>\n",
       "    .dataframe tbody tr th:only-of-type {\n",
       "        vertical-align: middle;\n",
       "    }\n",
       "\n",
       "    .dataframe tbody tr th {\n",
       "        vertical-align: top;\n",
       "    }\n",
       "\n",
       "    .dataframe thead th {\n",
       "        text-align: right;\n",
       "    }\n",
       "</style>\n",
       "<table border=\"1\" class=\"dataframe\">\n",
       "  <thead>\n",
       "    <tr style=\"text-align: right;\">\n",
       "      <th></th>\n",
       "      <th>QUẬN HUYỆN</th>\n",
       "      <th>GIÁ - TRIỆU ĐỒNG</th>\n",
       "      <th>DIỆN TÍCH - M2</th>\n",
       "      <th>HƯỚNG</th>\n",
       "      <th>SỐ PHÒNG</th>\n",
       "      <th>GIẤY TỜ PHÁP LÝ</th>\n",
       "    </tr>\n",
       "  </thead>\n",
       "  <tbody>\n",
       "    <tr>\n",
       "      <th>QUẬN HUYỆN</th>\n",
       "      <td>1.000000</td>\n",
       "      <td>0.507273</td>\n",
       "      <td>0.236392</td>\n",
       "      <td>0.058428</td>\n",
       "      <td>0.093870</td>\n",
       "      <td>0.043187</td>\n",
       "    </tr>\n",
       "    <tr>\n",
       "      <th>GIÁ - TRIỆU ĐỒNG</th>\n",
       "      <td>0.507273</td>\n",
       "      <td>1.000000</td>\n",
       "      <td>0.495842</td>\n",
       "      <td>0.078497</td>\n",
       "      <td>0.327797</td>\n",
       "      <td>0.065914</td>\n",
       "    </tr>\n",
       "    <tr>\n",
       "      <th>DIỆN TÍCH - M2</th>\n",
       "      <td>0.236392</td>\n",
       "      <td>0.495842</td>\n",
       "      <td>1.000000</td>\n",
       "      <td>0.010112</td>\n",
       "      <td>0.727009</td>\n",
       "      <td>0.023821</td>\n",
       "    </tr>\n",
       "    <tr>\n",
       "      <th>HƯỚNG</th>\n",
       "      <td>0.058428</td>\n",
       "      <td>0.078497</td>\n",
       "      <td>0.010112</td>\n",
       "      <td>1.000000</td>\n",
       "      <td>0.017129</td>\n",
       "      <td>-0.028727</td>\n",
       "    </tr>\n",
       "    <tr>\n",
       "      <th>SỐ PHÒNG</th>\n",
       "      <td>0.093870</td>\n",
       "      <td>0.327797</td>\n",
       "      <td>0.727009</td>\n",
       "      <td>0.017129</td>\n",
       "      <td>1.000000</td>\n",
       "      <td>0.020908</td>\n",
       "    </tr>\n",
       "    <tr>\n",
       "      <th>GIẤY TỜ PHÁP LÝ</th>\n",
       "      <td>0.043187</td>\n",
       "      <td>0.065914</td>\n",
       "      <td>0.023821</td>\n",
       "      <td>-0.028727</td>\n",
       "      <td>0.020908</td>\n",
       "      <td>1.000000</td>\n",
       "    </tr>\n",
       "  </tbody>\n",
       "</table>\n",
       "</div>"
      ],
      "text/plain": [
       "                  QUẬN HUYỆN  GIÁ - TRIỆU ĐỒNG  DIỆN TÍCH - M2     HƯỚNG  \\\n",
       "QUẬN HUYỆN          1.000000          0.507273        0.236392  0.058428   \n",
       "GIÁ - TRIỆU ĐỒNG    0.507273          1.000000        0.495842  0.078497   \n",
       "DIỆN TÍCH - M2      0.236392          0.495842        1.000000  0.010112   \n",
       "HƯỚNG               0.058428          0.078497        0.010112  1.000000   \n",
       "SỐ PHÒNG            0.093870          0.327797        0.727009  0.017129   \n",
       "GIẤY TỜ PHÁP LÝ     0.043187          0.065914        0.023821 -0.028727   \n",
       "\n",
       "                  SỐ PHÒNG  GIẤY TỜ PHÁP LÝ  \n",
       "QUẬN HUYỆN        0.093870         0.043187  \n",
       "GIÁ - TRIỆU ĐỒNG  0.327797         0.065914  \n",
       "DIỆN TÍCH - M2    0.727009         0.023821  \n",
       "HƯỚNG             0.017129        -0.028727  \n",
       "SỐ PHÒNG          1.000000         0.020908  \n",
       "GIẤY TỜ PHÁP LÝ   0.020908         1.000000  "
      ]
     },
     "execution_count": 269,
     "metadata": {},
     "output_type": "execute_result"
    }
   ],
   "source": [
    "data.corr()"
   ]
  },
  {
   "attachments": {},
   "cell_type": "markdown",
   "metadata": {},
   "source": [
    "Bắt đầu train mô hình"
   ]
  },
  {
   "cell_type": "code",
   "execution_count": null,
   "metadata": {},
   "outputs": [
    {
     "name": "stdout",
     "output_type": "stream",
     "text": [
      "(1836, 5)\n",
      "(1836,)\n"
     ]
    }
   ],
   "source": [
    "X = data.drop(\"GIÁ - TRIỆU ĐỒNG\", axis=1)\n",
    "y = data[\"GIÁ - TRIỆU ĐỒNG\"]\n",
    "print(X.shape)\n",
    "print(y.shape)"
   ]
  },
  {
   "cell_type": "code",
   "execution_count": null,
   "metadata": {},
   "outputs": [],
   "source": [
    "X_train, X_test, y_train, y_test = train_test_split(X, y, test_size=0.2, random_state=42)"
   ]
  },
  {
   "attachments": {},
   "cell_type": "markdown",
   "metadata": {},
   "source": [
    "Các hàm đánh giá"
   ]
  },
  {
   "cell_type": "code",
   "execution_count": null,
   "metadata": {},
   "outputs": [],
   "source": [
    "from sklearn import metrics\n",
    "from sklearn.model_selection import cross_val_score\n",
    "\n",
    "def cross_val(model):\n",
    "    pred = cross_val_score(model, X, y, cv=10)\n",
    "    return pred.mean()\n",
    "\n",
    "def print_evaluate(true, predicted):  \n",
    "    mae = metrics.mean_absolute_error(true, predicted)\n",
    "    mse = metrics.mean_squared_error(true, predicted)\n",
    "    rmse = np.sqrt(metrics.mean_squared_error(true, predicted))\n",
    "    r2_square = metrics.r2_score(true, predicted)\n",
    "    print('MAE:', mae)\n",
    "    print('MSE:', mse)\n",
    "    print('RMSE:', rmse)\n",
    "    print('R2 Square', r2_square)\n",
    "    print('__________________________________')\n",
    "    \n",
    "def evaluate(true, predicted):\n",
    "    mae = metrics.mean_absolute_error(true, predicted)\n",
    "    mse = metrics.mean_squared_error(true, predicted)\n",
    "    rmse = np.sqrt(metrics.mean_squared_error(true, predicted))\n",
    "    r2_square = metrics.r2_score(true, predicted)\n",
    "    return mae, mse, rmse, r2_square"
   ]
  },
  {
   "cell_type": "code",
   "execution_count": null,
   "metadata": {},
   "outputs": [
    {
     "data": {
      "text/html": [
       "<style>#sk-container-id-5 {color: black;}#sk-container-id-5 pre{padding: 0;}#sk-container-id-5 div.sk-toggleable {background-color: white;}#sk-container-id-5 label.sk-toggleable__label {cursor: pointer;display: block;width: 100%;margin-bottom: 0;padding: 0.3em;box-sizing: border-box;text-align: center;}#sk-container-id-5 label.sk-toggleable__label-arrow:before {content: \"▸\";float: left;margin-right: 0.25em;color: #696969;}#sk-container-id-5 label.sk-toggleable__label-arrow:hover:before {color: black;}#sk-container-id-5 div.sk-estimator:hover label.sk-toggleable__label-arrow:before {color: black;}#sk-container-id-5 div.sk-toggleable__content {max-height: 0;max-width: 0;overflow: hidden;text-align: left;background-color: #f0f8ff;}#sk-container-id-5 div.sk-toggleable__content pre {margin: 0.2em;color: black;border-radius: 0.25em;background-color: #f0f8ff;}#sk-container-id-5 input.sk-toggleable__control:checked~div.sk-toggleable__content {max-height: 200px;max-width: 100%;overflow: auto;}#sk-container-id-5 input.sk-toggleable__control:checked~label.sk-toggleable__label-arrow:before {content: \"▾\";}#sk-container-id-5 div.sk-estimator input.sk-toggleable__control:checked~label.sk-toggleable__label {background-color: #d4ebff;}#sk-container-id-5 div.sk-label input.sk-toggleable__control:checked~label.sk-toggleable__label {background-color: #d4ebff;}#sk-container-id-5 input.sk-hidden--visually {border: 0;clip: rect(1px 1px 1px 1px);clip: rect(1px, 1px, 1px, 1px);height: 1px;margin: -1px;overflow: hidden;padding: 0;position: absolute;width: 1px;}#sk-container-id-5 div.sk-estimator {font-family: monospace;background-color: #f0f8ff;border: 1px dotted black;border-radius: 0.25em;box-sizing: border-box;margin-bottom: 0.5em;}#sk-container-id-5 div.sk-estimator:hover {background-color: #d4ebff;}#sk-container-id-5 div.sk-parallel-item::after {content: \"\";width: 100%;border-bottom: 1px solid gray;flex-grow: 1;}#sk-container-id-5 div.sk-label:hover label.sk-toggleable__label {background-color: #d4ebff;}#sk-container-id-5 div.sk-serial::before {content: \"\";position: absolute;border-left: 1px solid gray;box-sizing: border-box;top: 0;bottom: 0;left: 50%;z-index: 0;}#sk-container-id-5 div.sk-serial {display: flex;flex-direction: column;align-items: center;background-color: white;padding-right: 0.2em;padding-left: 0.2em;position: relative;}#sk-container-id-5 div.sk-item {position: relative;z-index: 1;}#sk-container-id-5 div.sk-parallel {display: flex;align-items: stretch;justify-content: center;background-color: white;position: relative;}#sk-container-id-5 div.sk-item::before, #sk-container-id-5 div.sk-parallel-item::before {content: \"\";position: absolute;border-left: 1px solid gray;box-sizing: border-box;top: 0;bottom: 0;left: 50%;z-index: -1;}#sk-container-id-5 div.sk-parallel-item {display: flex;flex-direction: column;z-index: 1;position: relative;background-color: white;}#sk-container-id-5 div.sk-parallel-item:first-child::after {align-self: flex-end;width: 50%;}#sk-container-id-5 div.sk-parallel-item:last-child::after {align-self: flex-start;width: 50%;}#sk-container-id-5 div.sk-parallel-item:only-child::after {width: 0;}#sk-container-id-5 div.sk-dashed-wrapped {border: 1px dashed gray;margin: 0 0.4em 0.5em 0.4em;box-sizing: border-box;padding-bottom: 0.4em;background-color: white;}#sk-container-id-5 div.sk-label label {font-family: monospace;font-weight: bold;display: inline-block;line-height: 1.2em;}#sk-container-id-5 div.sk-label-container {text-align: center;}#sk-container-id-5 div.sk-container {/* jupyter's `normalize.less` sets `[hidden] { display: none; }` but bootstrap.min.css set `[hidden] { display: none !important; }` so we also need the `!important` here to be able to override the default hidden behavior on the sphinx rendered scikit-learn.org. See: https://github.com/scikit-learn/scikit-learn/issues/21755 */display: inline-block !important;position: relative;}#sk-container-id-5 div.sk-text-repr-fallback {display: none;}</style><div id=\"sk-container-id-5\" class=\"sk-top-container\"><div class=\"sk-text-repr-fallback\"><pre>LinearRegression()</pre><b>In a Jupyter environment, please rerun this cell to show the HTML representation or trust the notebook. <br />On GitHub, the HTML representation is unable to render, please try loading this page with nbviewer.org.</b></div><div class=\"sk-container\" hidden><div class=\"sk-item\"><div class=\"sk-estimator sk-toggleable\"><input class=\"sk-toggleable__control sk-hidden--visually\" id=\"sk-estimator-id-5\" type=\"checkbox\" checked><label for=\"sk-estimator-id-5\" class=\"sk-toggleable__label sk-toggleable__label-arrow\">LinearRegression</label><div class=\"sk-toggleable__content\"><pre>LinearRegression()</pre></div></div></div></div></div>"
      ],
      "text/plain": [
       "LinearRegression()"
      ]
     },
     "execution_count": 275,
     "metadata": {},
     "output_type": "execute_result"
    }
   ],
   "source": [
    "from sklearn.linear_model import LinearRegression\n",
    "\n",
    "lin_reg = LinearRegression()\n",
    "lin_reg.fit(X_train,y_train)"
   ]
  },
  {
   "cell_type": "code",
   "execution_count": null,
   "metadata": {},
   "outputs": [
    {
     "name": "stdout",
     "output_type": "stream",
     "text": [
      "-1251.6904456697234\n"
     ]
    }
   ],
   "source": [
    "print(lin_reg.intercept_)"
   ]
  },
  {
   "cell_type": "code",
   "execution_count": null,
   "metadata": {},
   "outputs": [
    {
     "name": "stdout",
     "output_type": "stream",
     "text": [
      "[2696.82045457 3631.56397049 2827.65116314 2554.07192559 2353.17324394\n",
      " 2602.62605807 2638.57626522  852.58587428 2268.49817383 3903.16931102\n",
      " 3604.19623371 2818.35588083 4247.01480409 1615.88881386 3356.86361053\n",
      " 1756.66523613 3244.35637629 2620.27391556 2173.82001564 4583.4729073\n",
      " 3910.99889456 1858.25013789 3869.17898484 3648.20233894 3259.66869651\n",
      " 2974.05337674 1963.42955956 1458.31503825 1489.13817721 2079.8080952\n",
      " 2004.86390041 3818.25032967 3910.98308818 4167.49756998 2676.75829669\n",
      " 2573.96335299 3380.25474382 2259.16132351 2749.86703022 1601.66653612\n",
      " 3457.32427447 1686.59726306 2886.1094413  3903.16931102 2258.75074257\n",
      " 2976.79417664 1625.36690991 1588.09468977 1636.60725423 1558.36918205\n",
      " 1261.08584759 3980.12822128  704.35079776 3547.05963087 2479.28519479\n",
      " 2473.87170196 2834.82566321 1823.48015026 2639.00265253 3112.65355875\n",
      " 3210.32911907 1784.9132995   985.13208734 1363.86498492 1317.93924164\n",
      " 2729.14858985 2514.66810659 1431.6185454  1413.65671131 4281.9555222\n",
      " 3494.68108329 1468.03670787 3389.47410967 3796.19846839 4783.2040604\n",
      " 3325.68414962 3932.22858098 3855.9802122  4146.53833377 1886.66893173\n",
      " 2568.29420333 1530.13286427 1811.87045535 3361.42432875 3657.48173085\n",
      " 1963.42955956 2427.74767625 3670.87545825 3309.47216848 2026.99141474\n",
      " 2951.60088979 3863.32329833 1411.54058115 4490.3580652  3217.20831067\n",
      " 4295.52736855 1547.29828515 3107.92305544 3818.25032967 5137.36834087\n",
      " 3029.38681303 2988.5313113  1745.68149402 1852.82083869 1137.77480674\n",
      " 4617.96147646 2085.2967076  2486.23350637 2462.67258798 3550.71331548\n",
      " 2680.82256224 3663.25162966 2448.87669755 5335.46611252 1966.67087292\n",
      " 3782.47264332 3482.13274203 1801.7382048  2542.27569382 3874.93299324\n",
      " 3087.65855434 1803.01736672 3157.63177786 3378.06269719 3455.63453162\n",
      " 4081.81378816 1497.12580026 1564.12319045 2448.26783418 3779.75838238\n",
      " 1920.31874234  945.23276106 1876.53668118 1199.48614385 2438.744447\n",
      " 2815.61508092 4752.9938456  5242.74916038 4688.14108291 2912.58189008\n",
      " 5590.0026365  2695.62836341 1451.43990743 4201.94183542 3310.30913672\n",
      " 3025.94721723 1646.86622719 4453.96566436 5512.02022114 5771.12152412\n",
      " 4998.51155664 3473.96264292 3642.54899566 3315.59838923 1186.28737121\n",
      " 3281.22410512 3242.07136442 3922.60858947 3177.17982192 1481.60855422\n",
      " 2167.81496116 2549.35316787 1291.86497848 4588.88640013 2315.00701884\n",
      " 1937.76831739 1508.73549517 2891.86344971 2160.43470614 4081.03107891\n",
      " 1850.25076926  930.3700072  2417.84353056  877.60664033 4212.07408597\n",
      " 5125.26219329  470.08765871 5310.17293788 1261.08584759 2827.65116314\n",
      " 3090.67176284 3541.41803317 2017.08726905 3144.34121792 3020.38970094\n",
      " 2681.47299363 2890.60009416 2248.61849202 5030.1992158  2230.50267921\n",
      " 2462.26200705 4766.56569195 1443.04170346 1984.11725834 2454.11916425\n",
      " 1032.5795787  3583.06721241 2894.66435971 2503.24494853 3045.18821324\n",
      " 2585.75958475 1663.86644149 3568.18865217 3372.8474868  4032.53432082\n",
      " 1824.54551901 2111.29747193 4678.00883236 1725.71507912 3112.65355875\n",
      " 3673.38388021  991.58489164 4025.60181562 1092.07716833 2579.73316776\n",
      " 1668.7213007  2216.93083286 5771.12152412 3045.35799833 2985.9029221\n",
      " 2301.22108367 2539.23672369 2868.8581487  2752.06956561 3982.73084885\n",
      " 2584.09560354 1563.09968536 1836.43907245 1664.85531759 3202.98603293\n",
      " 2153.74205139 2013.41956838 4127.59729831 2171.8578642  2148.82501123\n",
      " 1436.34904871 4462.3914203  3087.2064054  1903.49383704 1983.69406066\n",
      " 3478.04271484 5659.03535889 4246.50412375 1910.18649179 4464.73839104\n",
      " 4516.91459538 6552.14550196 6478.63793308 4127.59729831 1721.53798117\n",
      " 1481.60855422 4055.11323452 1528.15896725 1569.79234011 1816.60095866\n",
      " 3985.30091828 3456.48730623 4995.49834815 2128.74704698 4558.47790288\n",
      " 3604.79335149 3352.12904643 1928.48884145 2507.14843886 5771.12152412\n",
      "  966.6056936  1943.35159531 1449.92089506 3796.69492106 2253.12316093\n",
      " 3797.50612766 3980.12822128 2907.66484992 1338.03301227 2546.35576575\n",
      " 2230.50267921 1939.90025392 3783.32541793 2954.21526294 1735.10982752\n",
      " 2449.30308486 1895.97694704 1290.94093947 3235.51066033 3916.75290296\n",
      " 1615.90462024 1646.73950479 3266.36135126 1571.68442619 2490.69660727\n",
      " 2375.36912867  949.96326437 4868.32132419 1984.97322258 1709.92828626\n",
      " 1592.37125381 3667.5281937  3256.22910071  913.54510189 2032.6605644\n",
      " 1254.38144725 7929.57759982 3233.83672386 3352.99762742 1506.17717133\n",
      " 1886.66893173 4222.01979967 3079.04903928 3896.06607534 1363.495972\n",
      " 1760.94180017 4369.67541355 2160.43470614 3154.47346847 1759.91829508\n",
      " 4450.52606856  938.35356945 3004.20527176 3356.32075173 1187.99292043\n",
      " 3006.16742321 1975.87622271 1777.595975   1488.30120897 1411.54058115\n",
      " 2395.24881048 3518.83911947 3531.28578262 3715.65772919 4390.59034604\n",
      " 1284.7899445  1256.78173159 2673.92756426 1943.35159531 1633.16765843\n",
      " 3672.65932268 2026.80487788 4232.79252635 3833.11308353 3255.58754714\n",
      " 4547.74947993 2033.68406949 2223.38363716 3200.38340537 2050.70725723\n",
      " 4208.63449017 3309.77025468 2931.59448558 2142.78278786 2584.48042283\n",
      " 1481.60855422 3757.03544523 1361.27974244 4358.90268688 3372.8474868\n",
      " 1626.47500368 4208.44795332 2375.36912867 2405.81919393 1760.75526332\n",
      " 1642.17472578 4238.54653475  693.43703698 3101.23040069 3075.88027336\n",
      " 1988.06944105 4569.56054537 4674.92650389]\n"
     ]
    }
   ],
   "source": [
    "pred = lin_reg.predict(X_test)\n",
    "print(pred)"
   ]
  },
  {
   "attachments": {},
   "cell_type": "markdown",
   "metadata": {},
   "source": [
    "Kiểm tra có dự đoán âm không"
   ]
  },
  {
   "cell_type": "code",
   "execution_count": null,
   "metadata": {},
   "outputs": [
    {
     "name": "stdout",
     "output_type": "stream",
     "text": [
      "[]\n"
     ]
    }
   ],
   "source": [
    "print(pred[pred<0])"
   ]
  },
  {
   "attachments": {},
   "cell_type": "markdown",
   "metadata": {},
   "source": [
    "Kiểm tra kết quả min max"
   ]
  },
  {
   "cell_type": "code",
   "execution_count": null,
   "metadata": {},
   "outputs": [
    {
     "name": "stdout",
     "output_type": "stream",
     "text": [
      "7929.577599817509\n",
      "301\n"
     ]
    }
   ],
   "source": [
    "import math\n",
    "max=-math.inf\n",
    "j=-1\n",
    "for i in range(len(pred)):\n",
    "    if pred[i]>max:\n",
    "        max=pred[i]\n",
    "        j=i\n",
    "print(max)\n",
    "print(j)"
   ]
  },
  {
   "cell_type": "code",
   "execution_count": null,
   "metadata": {},
   "outputs": [
    {
     "name": "stdout",
     "output_type": "stream",
     "text": [
      "QUẬN HUYỆN           0.7735\n",
      "DIỆN TÍCH - M2     200.0000\n",
      "HƯỚNG                0.6666\n",
      "SỐ PHÒNG             4.0000\n",
      "GIẤY TỜ PHÁP LÝ      0.7500\n",
      "Name: 344, dtype: float64 8500.0\n"
     ]
    }
   ],
   "source": [
    "print(X_test.iloc[j],y_test.iloc[j])"
   ]
  },
  {
   "cell_type": "code",
   "execution_count": null,
   "metadata": {},
   "outputs": [
    {
     "name": "stdout",
     "output_type": "stream",
     "text": [
      "470.0876587089631\n",
      "176\n"
     ]
    }
   ],
   "source": [
    "\n",
    "min=math.inf\n",
    "j2=-1\n",
    "for i in range(len(pred)):\n",
    "    if pred[i]<min:\n",
    "        min=pred[i]\n",
    "        j2=i\n",
    "print(min)\n",
    "print(j2)"
   ]
  },
  {
   "cell_type": "code",
   "execution_count": null,
   "metadata": {},
   "outputs": [
    {
     "name": "stdout",
     "output_type": "stream",
     "text": [
      "QUẬN HUYỆN          0.0455\n",
      "DIỆN TÍCH - M2     46.0000\n",
      "HƯỚNG               0.1111\n",
      "SỐ PHÒNG            1.0000\n",
      "GIẤY TỜ PHÁP LÝ     0.2500\n",
      "Name: 1328, dtype: float64 550.0\n"
     ]
    }
   ],
   "source": [
    "print(X_test.iloc[j2],y_test.iloc[j2])"
   ]
  },
  {
   "cell_type": "code",
   "execution_count": null,
   "metadata": {},
   "outputs": [
    {
     "data": {
      "image/png": "[encoded data removed]",
      "text/plain": [
       "<Figure size 640x480 with 1 Axes>"
      ]
     },
     "metadata": {},
     "output_type": "display_data"
    }
   ],
   "source": [
    "target_name='GIÁ - TRIỆU ĐỒNG'\n",
    "plt.scatter(data['DIỆN TÍCH - M2'], data[target_name])\n",
    "plt.xlabel('Diện tích')\n",
    "plt.ylabel(target_name)\n",
    "plt.title('Biểu diễn phụ thuộc diện tích và giá')\n",
    "plt.show()"
   ]
  },
  {
   "cell_type": "code",
   "execution_count": null,
   "metadata": {},
   "outputs": [
    {
     "data": {
      "image/png": "[encoded data removed]",
      "text/plain": [
       "<Figure size 640x480 with 1 Axes>"
      ]
     },
     "metadata": {},
     "output_type": "display_data"
    }
   ],
   "source": [
    "target_name='GIÁ - TRIỆU ĐỒNG'\n",
    "plt.scatter(data['QUẬN HUYỆN'], data[target_name])\n",
    "plt.xlabel('QUẬN HUYỆN')\n",
    "plt.ylabel(target_name)\n",
    "plt.title('Biểu diễn phụ thuộc quận huyện và giá')\n",
    "plt.show()"
   ]
  },
  {
   "attachments": {},
   "cell_type": "markdown",
   "metadata": {},
   "source": [
    "có thể thấy giá chung cư phụ thuộc rất nhiều từ diện tích, quận huyện tiếp theo là số phòng"
   ]
  },
  {
   "cell_type": "code",
   "execution_count": null,
   "metadata": {},
   "outputs": [
    {
     "name": "stdout",
     "output_type": "stream",
     "text": [
      "Test set evaluation:\n",
      "_____________________________________\n",
      "MAE: 739.7808532482271\n",
      "MSE: 961129.8838518282\n",
      "RMSE: 980.372318995099\n",
      "R2 Square 0.5925694101603862\n",
      "__________________________________\n",
      "Train set evaluation:\n",
      "_____________________________________\n",
      "MAE: 818.4096173306269\n",
      "MSE: 2313658.144260918\n",
      "RMSE: 1521.0713803963697\n",
      "R2 Square 0.38143247175774564\n",
      "__________________________________\n"
     ]
    }
   ],
   "source": [
    "test_pred = lin_reg.predict(X_test)\n",
    "train_pred = lin_reg.predict(X_train)\n",
    "\n",
    "print('Test set evaluation:\\n_____________________________________')\n",
    "print_evaluate(y_test, test_pred)\n",
    "print('Train set evaluation:\\n_____________________________________')\n",
    "print_evaluate(y_train, train_pred)\n",
    "\n",
    "results_df = pd.DataFrame(data=[[\"Linear Regression\", *evaluate(y_test, test_pred) , cross_val(LinearRegression())]], \n",
    "                          columns=['Model', 'MAE', 'MSE', 'RMSE', 'R2 Square', \"Cross Validation\"])"
   ]
  },
  {
   "cell_type": "code",
   "execution_count": null,
   "metadata": {},
   "outputs": [
    {
     "data": {
      "text/plain": [
       "Text(0, 0.5, 'true')"
      ]
     },
     "execution_count": 288,
     "metadata": {},
     "output_type": "execute_result"
    },
    {
     "data": {
      "image/png": "[encoded data removed]",
      "text/plain": [
       "<Figure size 640x480 with 1 Axes>"
      ]
     },
     "metadata": {},
     "output_type": "display_data"
    }
   ],
   "source": [
    "plt.scatter(pred, y_test)\n",
    "plt.xlabel('predictions')\n",
    "plt.ylabel('true')"
   ]
  },
  {
   "attachments": {},
   "cell_type": "markdown",
   "metadata": {},
   "source": [
    "Giá dự đoán ổn trong khoảng giá gốc là 10 tỷ"
   ]
  },
  {
   "attachments": {},
   "cell_type": "markdown",
   "metadata": {},
   "source": [
    "Lưu mô hình"
   ]
  },
  {
   "cell_type": "code",
   "execution_count": null,
   "metadata": {},
   "outputs": [],
   "source": [
    "import pickle\n",
    "pickle.dump(lin_reg,open('lin_reg_CC_perfect2.pkl','wb'))"
   ]
  }
 ],
 "metadata": {
  "kernelspec": {
   "display_name": "Python 3",
   "language": "python",
   "name": "python3"
  },
  "language_info": {
   "codemirror_mode": {
    "name": "ipython",
    "version": 3
   },
   "file_extension": ".py",
   "mimetype": "text/x-python",
   "name": "python",
   "nbconvert_exporter": "python",
   "pygments_lexer": "ipython3",
   "version": "3.10.11"
  },
  "orig_nbformat": 4
 },
 "nbformat": 4,
 "nbformat_minor": 2
}
